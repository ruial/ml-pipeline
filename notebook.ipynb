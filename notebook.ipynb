{
 "cells": [
  {
   "cell_type": "code",
   "execution_count": 1,
   "metadata": {},
   "outputs": [
    {
     "name": "stdout",
     "output_type": "stream",
     "text": [
      "env: MLFLOW_TRACKING_URI=http://localhost:5000\n",
      "env: AWS_ACCESS_KEY_ID=admin\n",
      "env: AWS_SECRET_ACCESS_KEY=s3secret\n"
     ]
    }
   ],
   "source": [
    "# set AWS credentials file ~/.aws/credentials or load environment variables to load data from Metaflow\n",
    "%env MLFLOW_TRACKING_URI=http://localhost:5000\n",
    "%env AWS_ACCESS_KEY_ID=admin\n",
    "%env AWS_SECRET_ACCESS_KEY=s3secret"
   ]
  },
  {
   "cell_type": "code",
   "execution_count": 2,
   "metadata": {},
   "outputs": [],
   "source": [
    "import pandas as pd\n",
    "import numpy as np\n",
    "from sklearn.model_selection import train_test_split, GridSearchCV\n",
    "from sklearn.feature_extraction.text import CountVectorizer, ENGLISH_STOP_WORDS\n",
    "from sklearn.naive_bayes import MultinomialNB\n",
    "from sklearn.svm import LinearSVC\n",
    "from sklearn.metrics import f1_score, confusion_matrix, ConfusionMatrixDisplay\n",
    "from sklearn.preprocessing import StandardScaler, Binarizer\n",
    "from sklearn.pipeline import Pipeline\n",
    "from ml_pipeline.preprocess import add_features, vectorize"
   ]
  },
  {
   "cell_type": "code",
   "execution_count": 3,
   "metadata": {},
   "outputs": [
    {
     "name": "stdout",
     "output_type": "stream",
     "text": [
      "                 id       target    count.url  count.hashtag  count.reply  \\\n",
      "count   7526.000000  7526.000000  7526.000000    7526.000000  7526.000000   \n",
      "mean    5440.859155     0.427452     0.624369       0.441005     0.365400   \n",
      "std     3144.098023     0.494742     0.663534       1.091757     0.722965   \n",
      "min        1.000000     0.000000     0.000000       0.000000     0.000000   \n",
      "25%     2720.750000     0.000000     0.000000       0.000000     0.000000   \n",
      "50%     5406.500000     0.000000     1.000000       0.000000     0.000000   \n",
      "75%     8154.750000     1.000000     1.000000       0.000000     1.000000   \n",
      "max    10873.000000     1.000000     4.000000      13.000000     8.000000   \n",
      "\n",
      "       count.exclamation  count.question   count.caps  has.ellipsis  \\\n",
      "count        7526.000000     7526.000000  7526.000000   7526.000000   \n",
      "mean            0.154132        0.414696     0.971432      0.127026   \n",
      "std             0.620707        1.843395     2.044516      0.333025   \n",
      "min             0.000000        0.000000     0.000000      0.000000   \n",
      "25%             0.000000        0.000000     0.000000      0.000000   \n",
      "50%             0.000000        0.000000     0.000000      0.000000   \n",
      "75%             0.000000        0.000000     1.000000      0.000000   \n",
      "max            12.000000       54.000000    26.000000      1.000000   \n",
      "\n",
      "       count.words  average.word.length  \n",
      "count  7526.000000          7526.000000  \n",
      "mean     16.780096             5.665161  \n",
      "std       5.918192             1.710946  \n",
      "min       1.000000             2.000000  \n",
      "25%      13.000000             4.000000  \n",
      "50%      17.000000             5.000000  \n",
      "75%      21.000000             7.000000  \n",
      "max      33.000000            19.000000  \n"
     ]
    },
    {
     "data": {
      "text/html": [
       "<div>\n",
       "<style scoped>\n",
       "    .dataframe tbody tr th:only-of-type {\n",
       "        vertical-align: middle;\n",
       "    }\n",
       "\n",
       "    .dataframe tbody tr th {\n",
       "        vertical-align: top;\n",
       "    }\n",
       "\n",
       "    .dataframe thead th {\n",
       "        text-align: right;\n",
       "    }\n",
       "</style>\n",
       "<table border=\"1\" class=\"dataframe\">\n",
       "  <thead>\n",
       "    <tr style=\"text-align: right;\">\n",
       "      <th></th>\n",
       "      <th>id</th>\n",
       "      <th>keyword</th>\n",
       "      <th>location</th>\n",
       "      <th>text</th>\n",
       "      <th>target</th>\n",
       "      <th>count.url</th>\n",
       "      <th>count.hashtag</th>\n",
       "      <th>count.reply</th>\n",
       "      <th>count.exclamation</th>\n",
       "      <th>count.question</th>\n",
       "      <th>count.caps</th>\n",
       "      <th>has.ellipsis</th>\n",
       "      <th>count.words</th>\n",
       "      <th>average.word.length</th>\n",
       "    </tr>\n",
       "  </thead>\n",
       "  <tbody>\n",
       "    <tr>\n",
       "      <th>0</th>\n",
       "      <td>1</td>\n",
       "      <td>NaN</td>\n",
       "      <td>NaN</td>\n",
       "      <td>keyword_ Our Deeds are the Reason of this #ear...</td>\n",
       "      <td>1</td>\n",
       "      <td>0</td>\n",
       "      <td>1</td>\n",
       "      <td>0</td>\n",
       "      <td>0</td>\n",
       "      <td>0</td>\n",
       "      <td>1</td>\n",
       "      <td>0</td>\n",
       "      <td>13</td>\n",
       "      <td>4</td>\n",
       "    </tr>\n",
       "    <tr>\n",
       "      <th>1</th>\n",
       "      <td>4</td>\n",
       "      <td>NaN</td>\n",
       "      <td>NaN</td>\n",
       "      <td>keyword_ Forest fire near La Ronge Sask. Canada</td>\n",
       "      <td>1</td>\n",
       "      <td>0</td>\n",
       "      <td>0</td>\n",
       "      <td>0</td>\n",
       "      <td>0</td>\n",
       "      <td>0</td>\n",
       "      <td>0</td>\n",
       "      <td>0</td>\n",
       "      <td>7</td>\n",
       "      <td>4</td>\n",
       "    </tr>\n",
       "    <tr>\n",
       "      <th>2</th>\n",
       "      <td>5</td>\n",
       "      <td>NaN</td>\n",
       "      <td>NaN</td>\n",
       "      <td>keyword_ All residents asked to 'shelter in pl...</td>\n",
       "      <td>1</td>\n",
       "      <td>0</td>\n",
       "      <td>0</td>\n",
       "      <td>0</td>\n",
       "      <td>0</td>\n",
       "      <td>0</td>\n",
       "      <td>0</td>\n",
       "      <td>0</td>\n",
       "      <td>22</td>\n",
       "      <td>5</td>\n",
       "    </tr>\n",
       "    <tr>\n",
       "      <th>3</th>\n",
       "      <td>6</td>\n",
       "      <td>NaN</td>\n",
       "      <td>NaN</td>\n",
       "      <td>keyword_ 13,000 people receive #wildfires evac...</td>\n",
       "      <td>1</td>\n",
       "      <td>0</td>\n",
       "      <td>1</td>\n",
       "      <td>0</td>\n",
       "      <td>0</td>\n",
       "      <td>0</td>\n",
       "      <td>0</td>\n",
       "      <td>0</td>\n",
       "      <td>9</td>\n",
       "      <td>7</td>\n",
       "    </tr>\n",
       "    <tr>\n",
       "      <th>4</th>\n",
       "      <td>7</td>\n",
       "      <td>NaN</td>\n",
       "      <td>NaN</td>\n",
       "      <td>keyword_ Just got sent this photo from Ruby #A...</td>\n",
       "      <td>1</td>\n",
       "      <td>0</td>\n",
       "      <td>2</td>\n",
       "      <td>0</td>\n",
       "      <td>0</td>\n",
       "      <td>0</td>\n",
       "      <td>0</td>\n",
       "      <td>0</td>\n",
       "      <td>16</td>\n",
       "      <td>4</td>\n",
       "    </tr>\n",
       "  </tbody>\n",
       "</table>\n",
       "</div>"
      ],
      "text/plain": [
       "   id keyword location                                               text  \\\n",
       "0   1     NaN      NaN  keyword_ Our Deeds are the Reason of this #ear...   \n",
       "1   4     NaN      NaN    keyword_ Forest fire near La Ronge Sask. Canada   \n",
       "2   5     NaN      NaN  keyword_ All residents asked to 'shelter in pl...   \n",
       "3   6     NaN      NaN  keyword_ 13,000 people receive #wildfires evac...   \n",
       "4   7     NaN      NaN  keyword_ Just got sent this photo from Ruby #A...   \n",
       "\n",
       "   target  count.url  count.hashtag  count.reply  count.exclamation  \\\n",
       "0       1          0              1            0                  0   \n",
       "1       1          0              0            0                  0   \n",
       "2       1          0              0            0                  0   \n",
       "3       1          0              1            0                  0   \n",
       "4       1          0              2            0                  0   \n",
       "\n",
       "   count.question  count.caps  has.ellipsis  count.words  average.word.length  \n",
       "0               0           1             0           13                    4  \n",
       "1               0           0             0            7                    4  \n",
       "2               0           0             0           22                    5  \n",
       "3               0           0             0            9                    7  \n",
       "4               0           0             0           16                    4  "
      ]
     },
     "execution_count": 3,
     "metadata": {},
     "output_type": "execute_result"
    }
   ],
   "source": [
    "train_df = pd.read_csv(\"./docker/datasets/twitter-train.csv\")\n",
    "test_df = pd.read_csv(\"./docker/datasets/twitter-test.csv\")\n",
    "\n",
    "add_features(train_df)\n",
    "add_features(test_df)\n",
    "\n",
    "# remove duplicates\n",
    "train_df = train_df.drop_duplicates(subset=['text'])\n",
    "\n",
    "print(train_df.describe())\n",
    "train_df.head()\n",
    "\n",
    "#train_df[train_df.keyword == \"wreck\"]\n",
    "#train_df.dtypes\n",
    "#print(train_df.groupby([\"keyword\", \"target\"])[\"target\"].count().tail())\n",
    "#print(train_df[train_df[\"id\"] == 7772].values)"
   ]
  },
  {
   "cell_type": "code",
   "execution_count": 4,
   "metadata": {},
   "outputs": [
    {
     "name": "stdout",
     "output_type": "stream",
     "text": [
      "Current metadata provider: service@http://localhost:8080\n",
      "Using run: Run('TrainFlow/43')\n"
     ]
    },
    {
     "data": {
      "text/plain": [
       "0.6"
      ]
     },
     "execution_count": 4,
     "metadata": {},
     "output_type": "execute_result"
    }
   ],
   "source": [
    "from metaflow import Flow, Step, get_metadata\n",
    "print(\"Current metadata provider: %s\" % get_metadata())\n",
    "\n",
    "run = Flow(\"TrainFlow\").latest_successful_run\n",
    "print(\"Using run: %s\" % str(run))\n",
    "\n",
    "#Step(f\"TrainFlow/{run.id}/start\").task.data.vectorizer\n",
    "best_clf = run.data.best_clf\n",
    "best_vectorizer = run.data.vectorizer\n",
    "best_clf[\"nb\"].alpha"
   ]
  },
  {
   "cell_type": "code",
   "execution_count": 5,
   "metadata": {},
   "outputs": [
    {
     "name": "stdout",
     "output_type": "stream",
     "text": [
      "0    0.572591\n",
      "1    0.427409\n",
      "Name: target, dtype: float64\n",
      "0    0.572377\n",
      "1    0.427623\n",
      "Name: target, dtype: float64\n"
     ]
    }
   ],
   "source": [
    "X_train, X_test, y_train, y_test = train_test_split(train_df, train_df['target'], test_size=0.2, random_state=1, stratify=train_df['target'])\n",
    "print(X_train['target'].value_counts(normalize=True))\n",
    "print(X_test['target'].value_counts(normalize=True))"
   ]
  },
  {
   "cell_type": "code",
   "execution_count": 6,
   "metadata": {},
   "outputs": [],
   "source": [
    "stop_words = ENGLISH_STOP_WORDS.union(['http', 'https'])\n",
    "vectorizer = CountVectorizer(min_df=3, stop_words=stop_words)\n",
    "train_vectors = vectorizer.fit(X_train[\"text\"])"
   ]
  },
  {
   "cell_type": "code",
   "execution_count": 7,
   "metadata": {},
   "outputs": [],
   "source": [
    "train_vectors = vectorize(X_train, vectorizer)\n",
    "test_vectors = vectorize(X_test, vectorizer)\n",
    "\n",
    "# df = pd.DataFrame()\n",
    "# df['.id'] = X_test['id'].values\n",
    "# df[\".text\"] = X_test['text'].values\n",
    "# feature_names = vectorizer.get_feature_names_out()\n",
    "# for i, col in enumerate(vectorizer.get_feature_names_out()):\n",
    "#   df[col] = pd.arrays.SparseArray(test_vectors[:, i].toarray().ravel(), fill_value=0)\n",
    "\n",
    "# for col in extra_features:\n",
    "#   df[col] = X_test[col].values\n",
    "\n",
    "# print(df.head())"
   ]
  },
  {
   "cell_type": "code",
   "execution_count": 8,
   "metadata": {},
   "outputs": [
    {
     "name": "stdout",
     "output_type": "stream",
     "text": [
      "{'svc__C': 1e-05}\n",
      "Train score: 0.8468816373817339\n",
      "Test score: 0.7649700598802395\n",
      "{'nb__alpha': 0.6}\n",
      "Train score: 0.8230233510856206\n",
      "Test score: 0.7722132471728596\n"
     ]
    }
   ],
   "source": [
    "parameters = {'svc__C': [1e-6, 1e-5, 1e-4, 1e-3]}\n",
    "pipe = Pipeline([('scale', StandardScaler(with_mean=False)), ('svc', LinearSVC(class_weight='balanced', random_state=1))])\n",
    "clf_svc = GridSearchCV(pipe, parameters, scoring=[\"f1\", \"accuracy\"], refit='f1', return_train_score=True, cv=10)\n",
    "\n",
    "parameters = {'nb__alpha': np.arange(0.1, 1, 0.1)}\n",
    "pipe = Pipeline([('bin', Binarizer()), ('nb', MultinomialNB())])\n",
    "clf_nb = GridSearchCV(pipe, parameters, scoring=[\"f1\", \"accuracy\"], refit='f1', return_train_score=True, cv=10)\n",
    "\n",
    "# Naive Bayes with binary features a bit better than SVM, this model gets 0.80140 on Kaggle submission\n",
    "for model in [clf_svc, clf_nb]:\n",
    "  model.fit(train_vectors, y_train)\n",
    "  print(model.best_params_)\n",
    "  print(\"Train score:\", f1_score(y_train, model.predict(train_vectors)))\n",
    "  print(\"Test score:\", f1_score(y_test, model.predict(test_vectors)))"
   ]
  },
  {
   "cell_type": "code",
   "execution_count": 9,
   "metadata": {},
   "outputs": [
    {
     "data": {
      "text/plain": [
       "<sklearn.metrics._plot.confusion_matrix.ConfusionMatrixDisplay at 0x7fda486e9100>"
      ]
     },
     "execution_count": 9,
     "metadata": {},
     "output_type": "execute_result"
    },
    {
     "data": {
      "image/png": "[encoded data removed]",
      "text/plain": [
       "<Figure size 432x288 with 2 Axes>"
      ]
     },
     "metadata": {
      "needs_background": "light"
     },
     "output_type": "display_data"
    }
   ],
   "source": [
    "cm = confusion_matrix(clf_nb.predict(test_vectors), y_test)\n",
    "disp = ConfusionMatrixDisplay(confusion_matrix=cm, display_labels=clf_nb.classes_)\n",
    "disp.plot()"
   ]
  },
  {
   "cell_type": "code",
   "execution_count": 10,
   "metadata": {},
   "outputs": [],
   "source": [
    "submit_vectors = vectorize(test_df, vectorizer)\n",
    "predictions = clf_nb.predict(submit_vectors)"
   ]
  },
  {
   "cell_type": "code",
   "execution_count": 11,
   "metadata": {},
   "outputs": [],
   "source": [
    "submit_df = pd.DataFrame({\"id\": test_df[\"id\"], \"target\": predictions})\n",
    "submit_df.to_csv(\"./docker/datasets/submission.csv\", index=False)"
   ]
  },
  {
   "cell_type": "code",
   "execution_count": 12,
   "metadata": {},
   "outputs": [],
   "source": [
    "#f1_score(y_test, best_clf.predict(test_vectors))\n",
    "\n",
    "import mlflow\n",
    "import pickle\n",
    "#mlflow.set_tracking_uri(\"http://localhost:5000\")\n",
    "run_id=\"69409fb8df2946cda4730eff64f2dc95\"\n",
    "logged_model = f'runs:/{run_id}/nb_classifier'\n",
    "\n",
    "# Load model as a PyFuncModel.\n",
    "loaded_model = mlflow.pyfunc.load_model(logged_model)\n",
    "#f1_score(y_test, loaded_model.predict(test_vectors))\n",
    "\n",
    "vec_path = mlflow.artifacts.download_artifacts(f\"mlflow-artifacts:/1/{run_id}/artifacts/vectorizer-{run_id}.pickle\", dst_path=\".\")\n",
    "with open(vec_path, 'rb') as handle:\n",
    "    mlflow_vectorizer = pickle.load(handle)\n",
    "\n",
    "\n",
    "submit_df = pd.DataFrame({\"id\": test_df[\"id\"], \"target\": loaded_model.predict(vectorize(test_df, mlflow_vectorizer))})\n",
    "submit_df.to_csv(\"./docker/datasets/submission.csv\", index=False)\n",
    "#f1_score(y_test, loaded_model.predict(vectorize(X_test, mlflow_vectorizer)))"
   ]
  },
  {
   "cell_type": "code",
   "execution_count": 13,
   "metadata": {},
   "outputs": [
    {
     "name": "stdout",
     "output_type": "stream",
     "text": [
      "<RegisteredModel: creation_timestamp=1657663065069, description='', last_updated_timestamp=1662760263031, latest_versions=[<ModelVersion: creation_timestamp=1657663065092, current_stage='Staging', description='', last_updated_timestamp=1662760263031, name='nlp-tweets', run_id='f123c7109b6f441a9f37cab2f94dccf9', run_link='', source='mlflow-artifacts:/1/f123c7109b6f441a9f37cab2f94dccf9/artifacts/nb_classifier', status='READY', status_message='', tags={}, user_id='', version='1'>], name='nlp-tweets', tags={}>\n"
     ]
    }
   ],
   "source": [
    "from mlflow.tracking import MlflowClient\n",
    "\n",
    "client = MlflowClient()\n",
    "for rm in client.list_registered_models():\n",
    "    print(rm)"
   ]
  },
  {
   "cell_type": "code",
   "execution_count": 14,
   "metadata": {},
   "outputs": [],
   "source": [
    "# an alternative using pre-trained embeddings: https://www.kaggle.com/code/xiu0714/very-simple-svm-to-reach-0-82"
   ]
  }
 ],
 "metadata": {
  "kernelspec": {
   "display_name": "Python 3.8.10 ('ml-pipeline-fYIEYyIl-py3.8')",
   "language": "python",
   "name": "python3"
  },
  "language_info": {
   "codemirror_mode": {
    "name": "ipython",
    "version": 3
   },
   "file_extension": ".py",
   "mimetype": "text/x-python",
   "name": "python",
   "nbconvert_exporter": "python",
   "pygments_lexer": "ipython3",
   "version": "3.8.10"
  },
  "orig_nbformat": 4,
  "vscode": {
   "interpreter": {
    "hash": "ded352a16f9267accc167eccbe6c8478b5e53760848928b8b80c9d0b23c8f335"
   }
  }
 },
 "nbformat": 4,
 "nbformat_minor": 2
}
