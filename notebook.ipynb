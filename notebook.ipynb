{
 "cells": [
  {
   "cell_type": "code",
   "execution_count": 1,
   "metadata": {},
   "outputs": [
    {
     "name": "stdout",
     "output_type": "stream",
     "text": [
      "env: MLFLOW_TRACKING_URI=http://localhost:5000\n",
      "env: AWS_ACCESS_KEY_ID=admin\n",
      "env: AWS_SECRET_ACCESS_KEY=s3secret\n"
     ]
    }
   ],
   "source": [
    "# set AWS credentials file ~/.aws/credentials or load environment variables to load data from Metaflow\n",
    "%env MLFLOW_TRACKING_URI=http://localhost:5000\n",
    "%env AWS_ACCESS_KEY_ID=admin\n",
    "%env AWS_SECRET_ACCESS_KEY=s3secret"
   ]
  },
  {
   "cell_type": "code",
   "execution_count": 2,
   "metadata": {},
   "outputs": [
    {
     "name": "stdout",
     "output_type": "stream",
     "text": [
      "Current metadata provider: service@http://localhost:8080\n",
      "Using run: Run('TrainFlow/1')\n"
     ]
    },
    {
     "data": {
      "text/plain": [
       "0.5"
      ]
     },
     "execution_count": 2,
     "metadata": {},
     "output_type": "execute_result"
    }
   ],
   "source": [
    "from metaflow import Flow, Step, get_metadata\n",
    "print(\"Current metadata provider: %s\" % get_metadata())\n",
    "\n",
    "run = Flow(\"TrainFlow\").latest_successful_run\n",
    "print(\"Using run: %s\" % str(run))\n",
    "\n",
    "#Step(f\"TrainFlow/{run.id}/start\").task.data.vectorizer\n",
    "best_clf = run.data.best_clf\n",
    "best_vectorizer = run.data.vectorizer\n",
    "best_clf.alpha"
   ]
  },
  {
   "cell_type": "code",
   "execution_count": 3,
   "metadata": {},
   "outputs": [],
   "source": [
    "import pandas as pd\n",
    "from sklearn.model_selection import train_test_split, cross_validate, GridSearchCV\n",
    "from sklearn.feature_extraction.text import CountVectorizer, TfidfVectorizer, ENGLISH_STOP_WORDS\n",
    "from sklearn.metrics import f1_score, confusion_matrix, ConfusionMatrixDisplay\n",
    "\n",
    "from sklearn.linear_model import LogisticRegression\n",
    "from sklearn.naive_bayes import MultinomialNB\n",
    "from sklearn.linear_model import SGDClassifier\n",
    "from sklearn.svm import LinearSVC\n",
    "import xgboost as xgb"
   ]
  },
  {
   "cell_type": "code",
   "execution_count": 4,
   "metadata": {},
   "outputs": [
    {
     "data": {
      "text/html": [
       "<div>\n",
       "<style scoped>\n",
       "    .dataframe tbody tr th:only-of-type {\n",
       "        vertical-align: middle;\n",
       "    }\n",
       "\n",
       "    .dataframe tbody tr th {\n",
       "        vertical-align: top;\n",
       "    }\n",
       "\n",
       "    .dataframe thead th {\n",
       "        text-align: right;\n",
       "    }\n",
       "</style>\n",
       "<table border=\"1\" class=\"dataframe\">\n",
       "  <thead>\n",
       "    <tr style=\"text-align: right;\">\n",
       "      <th></th>\n",
       "      <th>id</th>\n",
       "      <th>keyword</th>\n",
       "      <th>location</th>\n",
       "      <th>text</th>\n",
       "      <th>target</th>\n",
       "    </tr>\n",
       "  </thead>\n",
       "  <tbody>\n",
       "    <tr>\n",
       "      <th>0</th>\n",
       "      <td>1</td>\n",
       "      <td>NaN</td>\n",
       "      <td>NaN</td>\n",
       "      <td>Our Deeds are the Reason of this #earthquake M...</td>\n",
       "      <td>1</td>\n",
       "    </tr>\n",
       "    <tr>\n",
       "      <th>1</th>\n",
       "      <td>4</td>\n",
       "      <td>NaN</td>\n",
       "      <td>NaN</td>\n",
       "      <td>Forest fire near La Ronge Sask. Canada</td>\n",
       "      <td>1</td>\n",
       "    </tr>\n",
       "    <tr>\n",
       "      <th>2</th>\n",
       "      <td>5</td>\n",
       "      <td>NaN</td>\n",
       "      <td>NaN</td>\n",
       "      <td>All residents asked to 'shelter in place' are ...</td>\n",
       "      <td>1</td>\n",
       "    </tr>\n",
       "    <tr>\n",
       "      <th>3</th>\n",
       "      <td>6</td>\n",
       "      <td>NaN</td>\n",
       "      <td>NaN</td>\n",
       "      <td>13,000 people receive #wildfires evacuation or...</td>\n",
       "      <td>1</td>\n",
       "    </tr>\n",
       "    <tr>\n",
       "      <th>4</th>\n",
       "      <td>7</td>\n",
       "      <td>NaN</td>\n",
       "      <td>NaN</td>\n",
       "      <td>Just got sent this photo from Ruby #Alaska as ...</td>\n",
       "      <td>1</td>\n",
       "    </tr>\n",
       "  </tbody>\n",
       "</table>\n",
       "</div>"
      ],
      "text/plain": [
       "   id keyword location                                               text  \\\n",
       "0   1     NaN      NaN  Our Deeds are the Reason of this #earthquake M...   \n",
       "1   4     NaN      NaN             Forest fire near La Ronge Sask. Canada   \n",
       "2   5     NaN      NaN  All residents asked to 'shelter in place' are ...   \n",
       "3   6     NaN      NaN  13,000 people receive #wildfires evacuation or...   \n",
       "4   7     NaN      NaN  Just got sent this photo from Ruby #Alaska as ...   \n",
       "\n",
       "   target  \n",
       "0       1  \n",
       "1       1  \n",
       "2       1  \n",
       "3       1  \n",
       "4       1  "
      ]
     },
     "execution_count": 4,
     "metadata": {},
     "output_type": "execute_result"
    }
   ],
   "source": [
    "train_df = pd.read_csv(\"./docker/datasets/twitter-train.csv\")\n",
    "test_df = pd.read_csv(\"./docker/datasets/twitter-test.csv\")\n",
    "train_df.head()\n",
    "#train_df[train_df.keyword == \"wreck\"]\n",
    "#train_df.dtypes"
   ]
  },
  {
   "cell_type": "code",
   "execution_count": 5,
   "metadata": {},
   "outputs": [
    {
     "name": "stdout",
     "output_type": "stream",
     "text": [
      "keyword   target\n",
      "wreck     0         30\n",
      "          1          7\n",
      "wreckage  1         37\n",
      "wrecked   0         36\n",
      "          1          3\n",
      "Name: target, dtype: int64\n"
     ]
    }
   ],
   "source": [
    "# could also append keyword but does not improve performance: train_df[\"keyword\"].fillna('').str.replace(\"%20\", \" \") + \" \" + \n",
    "train_df[\"text\"] = train_df[\"text\"].str.normalize(\"NFKD\").str.encode(\"ascii\", errors=\"ignore\").str.decode(\"utf-8\")\n",
    "test_df[\"text\"] = test_df[\"text\"].str.normalize(\"NFKD\").str.encode(\"ascii\", errors=\"ignore\").str.decode(\"utf-8\")\n",
    "train_df = train_df.drop_duplicates(subset=['text'])\n",
    "print(train_df.groupby([\"keyword\", \"target\"])[\"target\"].count().tail())\n",
    "#print(train_df[train_df[\"id\"] == 7772].values)"
   ]
  },
  {
   "cell_type": "code",
   "execution_count": 6,
   "metadata": {},
   "outputs": [
    {
     "name": "stdout",
     "output_type": "stream",
     "text": [
      "0    0.573809\n",
      "1    0.426191\n",
      "Name: target, dtype: float64\n",
      "0    0.573618\n",
      "1    0.426382\n",
      "Name: target, dtype: float64\n"
     ]
    }
   ],
   "source": [
    "X_train, X_test, y_train, y_test = train_test_split(train_df, train_df['target'], test_size=0.20, random_state=1, stratify=train_df['target'])\n",
    "print(X_train['target'].value_counts(normalize=True))\n",
    "print(X_test['target'].value_counts(normalize=True))"
   ]
  },
  {
   "cell_type": "code",
   "execution_count": 7,
   "metadata": {},
   "outputs": [
    {
     "data": {
      "text/plain": [
       "new          174\n",
       "people       153\n",
       "news         150\n",
       "don          135\n",
       "emergency    127\n",
       "video        126\n",
       "disaster     113\n",
       "police       110\n",
       "storm         98\n",
       "got           97\n",
       "dtype: int64"
      ]
     },
     "execution_count": 7,
     "metadata": {},
     "output_type": "execute_result"
    }
   ],
   "source": [
    "stop_words = ENGLISH_STOP_WORDS.union([\"amp\", \"gt\", \"rt\", \"like\", \"just\", \"http\", \"https\"])\n",
    "vectorizer = CountVectorizer(min_df=2, stop_words=stop_words)\n",
    "#vectorizer = TfidfVectorizer(min_df=2, stop_words=stop_words)\n",
    "#vectorizer = TfidfVectorizer(min_df=10, max_features=1000, stop_words=\"english\")\n",
    "\n",
    "train_vectors = vectorizer.fit_transform(X_train[\"text\"])\n",
    "test_vectors = vectorizer.transform(X_test[\"text\"])\n",
    "\n",
    "counts = pd.DataFrame(train_vectors.toarray(), columns=vectorizer.get_feature_names_out())\n",
    "counts.sum().sort_values(ascending=False).head(10)"
   ]
  },
  {
   "cell_type": "code",
   "execution_count": 8,
   "metadata": {},
   "outputs": [
    {
     "name": "stdout",
     "output_type": "stream",
     "text": [
      "(5343,)\n",
      "Model: MultinomialNB()\n",
      "Train F1 0.8391492876316333\n",
      "Test F1 0.7744610281923715 \n",
      "\n",
      "Model: LogisticRegression()\n",
      "Train F1 0.9062370921106981\n",
      "Test F1 0.7529215358931554 \n",
      "\n",
      "Model: SGDClassifier()\n",
      "Train F1 0.9595838335334134\n",
      "Test F1 0.7401448109412709 \n",
      "\n",
      "Model: LinearSVC()\n",
      "Train F1 0.9739510837144562\n",
      "Test F1 0.734920634920635 \n",
      "\n",
      "Model: XGBClassifier(base_score=0.5, booster='gbtree', callbacks=None,\n",
      "              colsample_bylevel=1, colsample_bynode=1, colsample_bytree=1,\n",
      "              early_stopping_rounds=None, enable_categorical=False,\n",
      "              eval_metric=None, gamma=0, gpu_id=-1, grow_policy='depthwise',\n",
      "              importance_type=None, interaction_constraints='',\n",
      "              learning_rate=0.300000012, max_bin=256, max_cat_to_onehot=4,\n",
      "              max_delta_step=0, max_depth=6, max_leaves=0, min_child_weight=1,\n",
      "              missing=nan, monotone_constraints='()', n_estimators=100,\n",
      "              n_jobs=0, num_parallel_tree=1, predictor='auto', random_state=0,\n",
      "              reg_alpha=0, reg_lambda=1, ...)\n",
      "Train F1 0.7676311030741411\n",
      "Test F1 0.71260199456029 \n",
      "\n"
     ]
    }
   ],
   "source": [
    "print(vectorizer.get_feature_names_out().shape)\n",
    "models = [MultinomialNB(), LogisticRegression(), SGDClassifier(), LinearSVC(), xgb.XGBClassifier()]\n",
    "for model in models:\n",
    "  #print(\"CV F1 score\", cross_validate(model, train_vectors, y_train, cv=3)['test_score'].mean())\n",
    "  #continue\n",
    "  model.fit(train_vectors, y_train)\n",
    "  print(\"Model:\", model)\n",
    "  print(\"Train F1\", f1_score(y_train, model.predict(train_vectors)))\n",
    "  print(\"Test F1\", f1_score(y_test, model.predict(test_vectors)), \"\\n\")"
   ]
  },
  {
   "cell_type": "code",
   "execution_count": 9,
   "metadata": {},
   "outputs": [
    {
     "name": "stdout",
     "output_type": "stream",
     "text": [
      "{'alpha': 1}\n",
      "0.8391492876316333\n",
      "0.7744610281923715\n"
     ]
    },
    {
     "data": {
      "text/plain": [
       "<sklearn.metrics._plot.confusion_matrix.ConfusionMatrixDisplay at 0x7f0db2219fa0>"
      ]
     },
     "execution_count": 9,
     "metadata": {},
     "output_type": "execute_result"
    },
    {
     "data": {
      "image/png": "[encoded data removed]",
      "text/plain": [
       "<Figure size 432x288 with 2 Axes>"
      ]
     },
     "metadata": {
      "needs_background": "light"
     },
     "output_type": "display_data"
    }
   ],
   "source": [
    "parameters = {'alpha':[0.1, 0.2, 0.5, 0.8, 0.9, 1]}\n",
    "\n",
    "clf = GridSearchCV(MultinomialNB(), parameters, scoring=[\"f1\", \"accuracy\"], refit='f1', return_train_score=True, cv=3)\n",
    "clf.fit(train_vectors, y_train)\n",
    "\n",
    "#print(clf.cv_results_)\n",
    "print(clf.best_params_)\n",
    "#clf = best_clf\n",
    "print(f1_score(y_train, clf.predict(train_vectors)))\n",
    "print(f1_score(y_test, clf.predict(test_vectors)))\n",
    "\n",
    "cm = confusion_matrix(clf.predict(test_vectors), y_test)\n",
    "disp = ConfusionMatrixDisplay(confusion_matrix=cm, display_labels=clf.classes_)\n",
    "disp.plot()"
   ]
  },
  {
   "cell_type": "code",
   "execution_count": 10,
   "metadata": {},
   "outputs": [],
   "source": [
    "submit_vectors = vectorizer.transform(test_df[\"text\"])\n",
    "predictions = clf.predict(submit_vectors)"
   ]
  },
  {
   "cell_type": "code",
   "execution_count": 11,
   "metadata": {},
   "outputs": [],
   "source": [
    "submit_df = pd.DataFrame({\"id\": test_df[\"id\"], \"target\": predictions})\n",
    "submit_df.to_csv(\"submission.csv\", index=False)"
   ]
  },
  {
   "cell_type": "code",
   "execution_count": 12,
   "metadata": {},
   "outputs": [],
   "source": [
    "#best_clf\n",
    "#best_clf.predict(test_vectors)\n",
    "import mlflow\n",
    "import pickle\n",
    "#mlflow.set_tracking_uri(\"http://localhost:5000\")\n",
    "run_id=\"f123c7109b6f441a9f37cab2f94dccf9\"\n",
    "logged_model = f'runs:/{run_id}/nb_classifier'\n",
    "\n",
    "# Load model as a PyFuncModel.\n",
    "loaded_model = mlflow.pyfunc.load_model(logged_model)\n",
    "loaded_model.predict(test_vectors)\n",
    "\n",
    "vec_path = mlflow.artifacts.download_artifacts(f\"mlflow-artifacts:/1/{run_id}/artifacts/vectorizer-{run_id}.pickle\", dst_path=\".\")\n",
    "with open(vec_path, 'rb') as handle:\n",
    "    mlflow_vec = pickle.load(handle)\n",
    "\n",
    "submit_df = pd.DataFrame({\"id\": test_df[\"id\"], \"target\": loaded_model.predict(mlflow_vec.transform(test_df[\"text\"]))})\n",
    "submit_df.to_csv(\"submission.csv\", index=False)"
   ]
  },
  {
   "cell_type": "code",
   "execution_count": 13,
   "metadata": {},
   "outputs": [
    {
     "name": "stdout",
     "output_type": "stream",
     "text": [
      "<RegisteredModel: creation_timestamp=1657663065069, description='', last_updated_timestamp=1657663065092, latest_versions=[<ModelVersion: creation_timestamp=1657663065092, current_stage='None', description='', last_updated_timestamp=1657663065092, name='nlp-tweets', run_id='f123c7109b6f441a9f37cab2f94dccf9', run_link='', source='mlflow-artifacts:/1/f123c7109b6f441a9f37cab2f94dccf9/artifacts/nb_classifier', status='READY', status_message='', tags={}, user_id='', version='1'>], name='nlp-tweets', tags={}>\n"
     ]
    }
   ],
   "source": [
    "from mlflow.tracking import MlflowClient\n",
    "\n",
    "client = MlflowClient()\n",
    "for rm in client.list_registered_models():\n",
    "    print(rm)"
   ]
  }
 ],
 "metadata": {
  "kernelspec": {
   "display_name": "Python 3.8.10 ('ml-pipeline-fYIEYyIl-py3.8')",
   "language": "python",
   "name": "python3"
  },
  "language_info": {
   "codemirror_mode": {
    "name": "ipython",
    "version": 3
   },
   "file_extension": ".py",
   "mimetype": "text/x-python",
   "name": "python",
   "nbconvert_exporter": "python",
   "pygments_lexer": "ipython3",
   "version": "3.8.10"
  },
  "orig_nbformat": 4,
  "vscode": {
   "interpreter": {
    "hash": "ded352a16f9267accc167eccbe6c8478b5e53760848928b8b80c9d0b23c8f335"
   }
  }
 },
 "nbformat": 4,
 "nbformat_minor": 2
}
